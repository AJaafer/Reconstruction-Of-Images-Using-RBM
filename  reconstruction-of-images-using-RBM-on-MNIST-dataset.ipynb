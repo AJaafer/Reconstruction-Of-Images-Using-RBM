{
 "cells": [
  {
   "cell_type": "markdown",
   "metadata": {},
   "source": [
    "##  Reconstruction Of Images Using RBM on MNIST dataset"
   ]
  },
  {
   "cell_type": "markdown",
   "metadata": {},
   "source": [
    "* Import the modules"
   ]
  },
  {
   "cell_type": "code",
   "execution_count": 1,
   "metadata": {},
   "outputs": [],
   "source": [
    "import tensorflow as tf\n",
    "import numpy as np\n",
    "from tensorflow.examples.tutorials.mnist import input_data\n",
    "import matplotlib.pyplot as plt\n",
    "%matplotlib inline"
   ]
  },
  {
   "cell_type": "markdown",
   "metadata": {},
   "source": [
    "* Declare the class RBM. The __init__ function will build the complete graph, forward and backward pass, and the objective function. \n",
    "* We use the TensorFlow built-in optimizer to update the weights and biases"
   ]
  },
  {
   "cell_type": "code",
   "execution_count": 2,
   "metadata": {},
   "outputs": [],
   "source": [
    "class RBM(object):\n",
    "    def __init__(self, visible, hidden):\n",
    "        \"\"\"\n",
    "        visible: Number of neurons in visible layer\n",
    "        hidden: number of neurons in hidden layer\n",
    "        \"\"\"\n",
    "        self._visible = visible\n",
    "        self._hidden = hidden\n",
    "\n",
    "        # Create the Computational graph\n",
    "        # Weights and biases\n",
    "        self._W = tf.Variable(tf.random_normal(shape=(self._visible,self._hidden)))\n",
    "        self._visible_bias = tf.Variable(np.zeros(self._visible).astype(np.float32)) #bias for Visible layer\n",
    "        self._hidden_bias = tf.Variable(np.zeros(self._hidden).astype(np.float32)) #bias for Hidden layer\n",
    "\n",
    "        # Placeholder for inputs\n",
    "        self._X = tf.placeholder('float', [None, self._visible])\n",
    "\n",
    "        # Forward Pass\n",
    "        _h = tf.nn.sigmoid(tf.matmul(self._X, self._W) + self._hidden_bias)\n",
    "        self.h = tf.nn.relu(tf.sign(_h -         tf.random_uniform(tf.shape(_h))))\n",
    "\n",
    "        #Backward pass\n",
    "        _v = tf.nn.sigmoid(tf.matmul(self.h, tf.transpose(self._W)) + self._visible_bias)\n",
    "        self.V = tf.nn.relu(tf.sign(_v - tf.random_uniform(tf.shape(_v))))\n",
    "\n",
    "        # Objective Function\n",
    "        objective = tf.reduce_mean(self.free_energy(self._X)) - tf.reduce_mean(self.free_energy(self.V))\n",
    "        self._train_op = tf.train.GradientDescentOptimizer(1e-3).minimize(objective)\n",
    "\n",
    "        # Cross entropy cost\n",
    "        reconstructed_input = self.one_pass(self._X)\n",
    "        self.cost = tf.reduce_mean(tf.nn.sigmoid_cross_entropy_with_logits(labels=self._X, logits=reconstructed_input))\n",
    "    \"\"\"We define the fit() method in the RBM class. After declaring all the ops in\n",
    "       __init__, training is simply calling the train_op within the session. \n",
    "       We use batch training\"\"\"\n",
    "    def fit(self, X, epochs = 1, batch_size = 100):\n",
    "        N, D = X.shape\n",
    "        num_batches = N // batch_size\n",
    "\n",
    "        obj = []\n",
    "        for i in range(epochs):\n",
    "            #X = shuffle(X)\n",
    "            for j in range(num_batches):\n",
    "                batch = X[j * batch_size: (j * batch_size + batch_size)]\n",
    "                _, ob = self.session.run([self._train_op,self.cost ], feed_dict={self._X: batch})\n",
    "                if j % 10 == 0:\n",
    "                    print('training epoch {0} cost {1}'.format(j,ob)) \n",
    "                obj.append(ob)\n",
    "        return obj\n",
    "    \"\"\"There are other helper functions to calculate the logit error and return\n",
    "      reconstructed images from the network\"\"\"\n",
    "    def set_session(self, session):\n",
    "        self.session = session\n",
    "\n",
    "    def free_energy(self, V):\n",
    "        b = tf.reshape(self._visible_bias, (self._visible, 1))\n",
    "        term_1 = -tf.matmul(V,b)\n",
    "        term_1 = tf.reshape(term_1, (-1,))\n",
    "        term_2 = -tf.reduce_sum(tf.nn.softplus(tf.matmul(V,self._W) +\n",
    "            self._hidden_bias))\n",
    "        return term_1 + term_2\n",
    "\n",
    "    def one_pass(self, X):\n",
    "        h = tf.nn.sigmoid(tf.matmul(X, self._W) + self._hidden_bias)\n",
    "        return tf.matmul(h, tf.transpose(self._W)) + self._visible_bias\n",
    "\n",
    "    def reconstruct(self,X):\n",
    "        x = tf.nn.sigmoid(self.one_pass(X))\n",
    "        return self.session.run(x, feed_dict={self._X: X})\n"
   ]
  },
  {
   "cell_type": "markdown",
   "metadata": {},
   "source": [
    "* Load the MNIST dataset"
   ]
  },
  {
   "cell_type": "code",
   "execution_count": 3,
   "metadata": {},
   "outputs": [
    {
     "name": "stdout",
     "output_type": "stream",
     "text": [
      "WARNING:tensorflow:From <ipython-input-3-e37dbc446051>:1: read_data_sets (from tensorflow.contrib.learn.python.learn.datasets.mnist) is deprecated and will be removed in a future version.\n",
      "Instructions for updating:\n",
      "Please use alternatives such as official/mnist/dataset.py from tensorflow/models.\n",
      "WARNING:tensorflow:From C:\\Users\\maninaya\\Anaconda3\\envs\\env\\lib\\site-packages\\tensorflow\\contrib\\learn\\python\\learn\\datasets\\mnist.py:260: maybe_download (from tensorflow.contrib.learn.python.learn.datasets.base) is deprecated and will be removed in a future version.\n",
      "Instructions for updating:\n",
      "Please write your own downloading logic.\n",
      "WARNING:tensorflow:From C:\\Users\\maninaya\\Anaconda3\\envs\\env\\lib\\site-packages\\tensorflow\\contrib\\learn\\python\\learn\\datasets\\mnist.py:262: extract_images (from tensorflow.contrib.learn.python.learn.datasets.mnist) is deprecated and will be removed in a future version.\n",
      "Instructions for updating:\n",
      "Please use tf.data to implement this functionality.\n",
      "Extracting MNIST_data/train-images-idx3-ubyte.gz\n",
      "WARNING:tensorflow:From C:\\Users\\maninaya\\Anaconda3\\envs\\env\\lib\\site-packages\\tensorflow\\contrib\\learn\\python\\learn\\datasets\\mnist.py:267: extract_labels (from tensorflow.contrib.learn.python.learn.datasets.mnist) is deprecated and will be removed in a future version.\n",
      "Instructions for updating:\n",
      "Please use tf.data to implement this functionality.\n",
      "Extracting MNIST_data/train-labels-idx1-ubyte.gz\n",
      "WARNING:tensorflow:From C:\\Users\\maninaya\\Anaconda3\\envs\\env\\lib\\site-packages\\tensorflow\\contrib\\learn\\python\\learn\\datasets\\mnist.py:110: dense_to_one_hot (from tensorflow.contrib.learn.python.learn.datasets.mnist) is deprecated and will be removed in a future version.\n",
      "Instructions for updating:\n",
      "Please use tf.one_hot on tensors.\n",
      "Extracting MNIST_data/t10k-images-idx3-ubyte.gz\n",
      "Extracting MNIST_data/t10k-labels-idx1-ubyte.gz\n",
      "WARNING:tensorflow:From C:\\Users\\maninaya\\Anaconda3\\envs\\env\\lib\\site-packages\\tensorflow\\contrib\\learn\\python\\learn\\datasets\\mnist.py:290: DataSet.__init__ (from tensorflow.contrib.learn.python.learn.datasets.mnist) is deprecated and will be removed in a future version.\n",
      "Instructions for updating:\n",
      "Please use alternatives such as official/mnist/dataset.py from tensorflow/models.\n"
     ]
    }
   ],
   "source": [
    "mnist = input_data.read_data_sets(\"MNIST_data/\", one_hot=True)\n",
    "train_X, train_Y, test_X, test_Y = mnist.train.images, mnist.train.labels, mnist.test.images, mnist.test.labels"
   ]
  },
  {
   "cell_type": "markdown",
   "metadata": {},
   "source": [
    "* We train our RBM on the MNIST dataset"
   ]
  },
  {
   "cell_type": "code",
   "execution_count": 4,
   "metadata": {},
   "outputs": [
    {
     "name": "stdout",
     "output_type": "stream",
     "text": [
      "training epoch 0 cost 2.8835232257843018\n",
      "training epoch 10 cost 0.554356038570404\n",
      "training epoch 20 cost 0.4265272319316864\n",
      "training epoch 30 cost 0.41361626982688904\n",
      "training epoch 40 cost 0.3575364351272583\n",
      "training epoch 50 cost 0.350503146648407\n",
      "training epoch 60 cost 0.3301950991153717\n",
      "training epoch 70 cost 0.30484238266944885\n",
      "training epoch 80 cost 0.3391551673412323\n",
      "training epoch 90 cost 0.34217962622642517\n",
      "training epoch 100 cost 0.2918216288089752\n",
      "training epoch 110 cost 0.281596839427948\n",
      "training epoch 120 cost 0.29105138778686523\n",
      "training epoch 130 cost 0.279015451669693\n",
      "training epoch 140 cost 0.28529393672943115\n",
      "training epoch 150 cost 0.341569185256958\n",
      "training epoch 160 cost 0.2740691900253296\n",
      "training epoch 170 cost 0.3370254337787628\n",
      "training epoch 180 cost 0.2887929379940033\n",
      "training epoch 190 cost 0.2483990341424942\n",
      "training epoch 200 cost 0.26531293988227844\n",
      "training epoch 210 cost 0.26596301794052124\n",
      "training epoch 220 cost 0.27037668228149414\n",
      "training epoch 230 cost 0.24920916557312012\n",
      "training epoch 240 cost 0.2687914967536926\n",
      "training epoch 250 cost 0.2870922386646271\n",
      "training epoch 260 cost 0.2587391138076782\n",
      "training epoch 270 cost 0.25201696157455444\n",
      "training epoch 280 cost 0.28120899200439453\n",
      "training epoch 290 cost 0.24991756677627563\n",
      "training epoch 300 cost 0.25916361808776855\n",
      "training epoch 310 cost 0.25404980778694153\n",
      "training epoch 320 cost 0.24143943190574646\n",
      "training epoch 330 cost 0.24113410711288452\n",
      "training epoch 340 cost 0.2408882975578308\n",
      "training epoch 350 cost 0.23697322607040405\n",
      "training epoch 360 cost 0.2533866763114929\n",
      "training epoch 370 cost 0.23738496005535126\n",
      "training epoch 380 cost 0.21782919764518738\n",
      "training epoch 390 cost 0.2589997947216034\n",
      "training epoch 400 cost 0.23892278969287872\n",
      "training epoch 410 cost 0.24681152403354645\n",
      "training epoch 420 cost 0.23792724311351776\n",
      "training epoch 430 cost 0.23551322519779205\n",
      "training epoch 440 cost 0.24308104813098907\n",
      "training epoch 450 cost 0.22640308737754822\n",
      "training epoch 460 cost 0.211141437292099\n",
      "training epoch 470 cost 0.23329280316829681\n",
      "training epoch 480 cost 0.24017353355884552\n",
      "training epoch 490 cost 0.2530456781387329\n",
      "training epoch 500 cost 0.24251534044742584\n",
      "training epoch 510 cost 0.22118455171585083\n",
      "training epoch 520 cost 0.21026486158370972\n",
      "training epoch 530 cost 0.2263280302286148\n",
      "training epoch 540 cost 0.22918029129505157\n"
     ]
    }
   ],
   "source": [
    "X_train = train_X.astype(np.float32)\n",
    "X_test = test_X.astype(np.float32)\n",
    "_, m = X_train.shape\n",
    "rbm = RBM(m, 100)\n",
    "#Initialize all variables\n",
    "init = tf.global_variables_initializer()\n",
    "with tf.Session() as sess:\n",
    "    sess.run(init)\n",
    "    rbm.set_session(sess)\n",
    "    err = rbm.fit(X_train)\n",
    "    out = rbm.reconstruct(X_test[0:100])  # Let us reconstruct Test Data"
   ]
  },
  {
   "cell_type": "markdown",
   "metadata": {},
   "source": [
    "* We can see the original and reconstructed MNIST images by using a small helper plotting code"
   ]
  },
  {
   "cell_type": "code",
   "execution_count": 5,
   "metadata": {},
   "outputs": [
    {
     "data": {
      "image/png": "[encoded data removed]",
      "text/plain": [
       "<Figure size 1440x288 with 16 Axes>"
      ]
     },
     "metadata": {
      "needs_background": "light"
     },
     "output_type": "display_data"
    }
   ],
   "source": [
    "row, col = 2, 8\n",
    "idx = np.random.randint(0, 100, row * col // 2)\n",
    "f, axarr = plt.subplots(row, col, sharex=True, sharey=True, figsize=(20,4))\n",
    "for fig, row in zip([X_test,out], axarr):\n",
    "    for i,ax in zip(idx,row):\n",
    "        ax.imshow(fig[i].reshape((28, 28)), cmap='Greys_r')\n",
    "        ax.get_xaxis().set_visible(False)\n",
    "        ax.get_yaxis().set_visible(False)"
   ]
  },
  {
   "cell_type": "code",
   "execution_count": null,
   "metadata": {},
   "outputs": [],
   "source": []
  }
 ],
 "metadata": {
  "kernelspec": {
   "display_name": "Python 3",
   "language": "python",
   "name": "python3"
  },
  "language_info": {
   "codemirror_mode": {
    "name": "ipython",
    "version": 3
   },
   "file_extension": ".py",
   "mimetype": "text/x-python",
   "name": "python",
   "nbconvert_exporter": "python",
   "pygments_lexer": "ipython3",
   "version": "3.6.7"
  }
 },
 "nbformat": 4,
 "nbformat_minor": 2
}
