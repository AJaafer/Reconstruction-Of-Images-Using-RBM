{
 "cells": [
  {
   "cell_type": "markdown",
   "metadata": {},
   "source": [
    "##  Reconstruction Of Images Using RBM on MNIST dataset"
   ]
  },
  {
   "cell_type": "markdown",
   "metadata": {},
   "source": [
    "* Import the modules"
   ]
  },
  {
   "cell_type": "code",
   "execution_count": 1,
   "metadata": {},
   "outputs": [],
   "source": [
    "import tensorflow as tf\n",
    "import numpy as np\n",
    "from tensorflow.examples.tutorials.mnist import input_data\n",
    "import matplotlib.pyplot as plt\n",
    "%matplotlib inline"
   ]
  },
  {
   "cell_type": "markdown",
   "metadata": {},
   "source": [
    "* Declare the class RBM. The __init__ function will build the complete graph, forward and backward pass, and the objective function. \n",
    "* We use the TensorFlow built-in optimizer to update the weights and biases"
   ]
  },
  {
   "cell_type": "code",
   "execution_count": 2,
   "metadata": {},
   "outputs": [],
   "source": [
    "\n",
    "class RBM(object):\n",
    "    def __init__(self, visible, hidden):\n",
    "        \"\"\"\n",
    "        visible: Number of neurons in visible layer\n",
    "        hidden: number of neurons in hidden layer\n",
    "        \"\"\"\n",
    "        self._visible = visible\n",
    "        self._hidden = hidden\n",
    "                \n",
    "        \n",
    "        \n",
    "        # Create the Computational graph\n",
    "       \n",
    "        # Weights and biases\n",
    "        self._W = tf.Variable(tf.random_normal(shape=(self._visible,self._hidden)))\n",
    "        self._hidden_bias = tf.Variable(np.zeros(self._hidden).astype(np.float32))  #bias for hidden layer\n",
    "        self._visible_bias = tf.Variable(np.zeros(self._visible).astype(np.float32))  #bias for Visible layer\n",
    "            \n",
    "        # Placeholder for inputs\n",
    "        self._X = tf.placeholder('float', [None, self._visible])\n",
    "                                               \n",
    "        # Forwards Pass\n",
    "        _h = tf.nn.sigmoid(tf.matmul(self._X, self._W) + self._hidden_bias)\n",
    "        self.h = tf.nn.relu(tf.sign(_h - tf.random_uniform(tf.shape(_h))))\n",
    "                      \n",
    "            \n",
    "        #Backward pass\n",
    "        _v = tf.nn.sigmoid(tf.matmul(self.h, tf.transpose(self._W)) + self._visible_bias)\n",
    "        self.V = tf.nn.relu(tf.sign(_v - tf.random_uniform(tf.shape(_v))))\n",
    "                        \n",
    "                                              \n",
    "        # Objective Function\n",
    "        objective = tf.reduce_mean(self.free_energy(self._X)) - tf.reduce_mean(\n",
    "                              self.free_energy(self.V))\n",
    "        self._train_op =  tf.train.GradientDescentOptimizer(1e-3).minimize(objective)\n",
    "        \n",
    "        # Cross entropy cost\n",
    "        reconstructed_input = self.one_pass(self._X)\n",
    "        self.cost = tf.reduce_mean(tf.nn.sigmoid_cross_entropy_with_logits(\n",
    "                labels=self._X, logits=reconstructed_input))\n",
    "\n",
    "            \n",
    "            \n",
    "    def set_session(self, session):\n",
    "        self.session = session\n",
    "            \n",
    "                                   \n",
    "            \n",
    "    def free_energy(self, V):\n",
    "        b = tf.reshape(self._visible_bias, (self._visible, 1))\n",
    "        term_1 = -tf.matmul(V,b)\n",
    "        term_1 = tf.reshape(term_1, (-1,))\n",
    "        \n",
    "        term_2 = -tf.reduce_sum(tf.nn.softplus(tf.matmul(V,self._W) + self._hidden_bias))\n",
    "        return term_1 + term_2\n",
    "    \n",
    "    def one_pass(self, X):\n",
    "        h = tf.nn.sigmoid(tf.matmul(X, self._W) + self._hidden_bias)\n",
    "        return tf.matmul(h, tf.transpose(self._W)) + self._visible_bias\n",
    "    \n",
    "    def reconstruct(self,X):\n",
    "        x = tf.nn.sigmoid(self.one_pass(X))\n",
    "        return self.session.run(x, feed_dict={self._X: X})\n",
    "     \n",
    "    def rbm_output(self,X):\n",
    "        x = tf.nn.sigmoid(tf.matmul(X, self._W) + self._hidden_bias)\n",
    "        return self.session.run(x, feed_dict={self._X: X})\n",
    "        \n",
    "        \n",
    "    def fit(self, X, epochs = 1, batch_size = 100):\n",
    "        N, D = X.shape\n",
    "        num_batches = N // batch_size\n",
    "        \n",
    "        obj = []\n",
    "        for i in range(epochs):\n",
    "            #X = shuffle(X)\n",
    "            for j in range(num_batches):\n",
    "                batch = X[j * batch_size: (j * batch_size + batch_size)]\n",
    "                _, ob = self.session.run([self._train_op,self.cost ], feed_dict={self._X: batch})\n",
    "                if j % 100 == 0:\n",
    "                    print('training epoch {0} batch {2} cost {1}'.format((i+1),ob, j)) \n",
    "                obj.append(ob)\n",
    "        return obj"
   ]
  },
  {
   "cell_type": "markdown",
   "metadata": {},
   "source": [
    "* Load the MNIST dataset"
   ]
  },
  {
   "cell_type": "code",
   "execution_count": 3,
   "metadata": {},
   "outputs": [
    {
     "name": "stdout",
     "output_type": "stream",
     "text": [
      "WARNING:tensorflow:From <ipython-input-3-e37dbc446051>:1: read_data_sets (from tensorflow.contrib.learn.python.learn.datasets.mnist) is deprecated and will be removed in a future version.\n",
      "Instructions for updating:\n",
      "Please use alternatives such as official/mnist/dataset.py from tensorflow/models.\n",
      "WARNING:tensorflow:From C:\\Users\\maninaya\\Anaconda3\\envs\\env\\lib\\site-packages\\tensorflow\\contrib\\learn\\python\\learn\\datasets\\mnist.py:260: maybe_download (from tensorflow.contrib.learn.python.learn.datasets.base) is deprecated and will be removed in a future version.\n",
      "Instructions for updating:\n",
      "Please write your own downloading logic.\n",
      "WARNING:tensorflow:From C:\\Users\\maninaya\\Anaconda3\\envs\\env\\lib\\site-packages\\tensorflow\\contrib\\learn\\python\\learn\\datasets\\mnist.py:262: extract_images (from tensorflow.contrib.learn.python.learn.datasets.mnist) is deprecated and will be removed in a future version.\n",
      "Instructions for updating:\n",
      "Please use tf.data to implement this functionality.\n",
      "Extracting MNIST_data/train-images-idx3-ubyte.gz\n",
      "WARNING:tensorflow:From C:\\Users\\maninaya\\Anaconda3\\envs\\env\\lib\\site-packages\\tensorflow\\contrib\\learn\\python\\learn\\datasets\\mnist.py:267: extract_labels (from tensorflow.contrib.learn.python.learn.datasets.mnist) is deprecated and will be removed in a future version.\n",
      "Instructions for updating:\n",
      "Please use tf.data to implement this functionality.\n",
      "Extracting MNIST_data/train-labels-idx1-ubyte.gz\n",
      "WARNING:tensorflow:From C:\\Users\\maninaya\\Anaconda3\\envs\\env\\lib\\site-packages\\tensorflow\\contrib\\learn\\python\\learn\\datasets\\mnist.py:110: dense_to_one_hot (from tensorflow.contrib.learn.python.learn.datasets.mnist) is deprecated and will be removed in a future version.\n",
      "Instructions for updating:\n",
      "Please use tf.one_hot on tensors.\n",
      "Extracting MNIST_data/t10k-images-idx3-ubyte.gz\n",
      "Extracting MNIST_data/t10k-labels-idx1-ubyte.gz\n",
      "WARNING:tensorflow:From C:\\Users\\maninaya\\Anaconda3\\envs\\env\\lib\\site-packages\\tensorflow\\contrib\\learn\\python\\learn\\datasets\\mnist.py:290: DataSet.__init__ (from tensorflow.contrib.learn.python.learn.datasets.mnist) is deprecated and will be removed in a future version.\n",
      "Instructions for updating:\n",
      "Please use alternatives such as official/mnist/dataset.py from tensorflow/models.\n"
     ]
    }
   ],
   "source": [
    "mnist = input_data.read_data_sets(\"MNIST_data/\", one_hot=True)\n",
    "train_X, train_Y, test_X, test_Y = mnist.train.images, mnist.train.labels, mnist.test.images, mnist.test.labels"
   ]
  },
  {
   "cell_type": "markdown",
   "metadata": {},
   "source": [
    "* We train our RBM on the MNIST dataset"
   ]
  },
  {
   "cell_type": "code",
   "execution_count": 4,
   "metadata": {},
   "outputs": [
    {
     "name": "stdout",
     "output_type": "stream",
     "text": [
      "training epoch 1 batch 0 cost 2.601088285446167\n",
      "training epoch 1 batch 100 cost 0.2947143018245697\n",
      "training epoch 1 batch 200 cost 0.2703692317008972\n",
      "training epoch 1 batch 300 cost 0.26889219880104065\n",
      "training epoch 1 batch 400 cost 0.2515017092227936\n",
      "training epoch 1 batch 500 cost 0.25660964846611023\n",
      "training epoch 2 batch 0 cost 0.25032269954681396\n",
      "training epoch 2 batch 100 cost 0.229159414768219\n",
      "training epoch 2 batch 200 cost 0.21945390105247498\n",
      "training epoch 2 batch 300 cost 0.22956086695194244\n",
      "training epoch 2 batch 400 cost 0.22161854803562164\n",
      "training epoch 2 batch 500 cost 0.22630485892295837\n",
      "training epoch 3 batch 0 cost 0.22141459584236145\n",
      "training epoch 3 batch 100 cost 0.20926757156848907\n",
      "training epoch 3 batch 200 cost 0.20339013636112213\n",
      "training epoch 3 batch 300 cost 0.21075324714183807\n",
      "training epoch 3 batch 400 cost 0.2069055289030075\n",
      "training epoch 3 batch 500 cost 0.2133961021900177\n"
     ]
    }
   ],
   "source": [
    "X_train = train_X.astype(np.float32)\n",
    "X_test = test_X.astype(np.float32)\n",
    "_, m = X_train.shape\n",
    "rbm = RBM(m, 100)\n",
    "#Initialize all variables\n",
    "init = tf.global_variables_initializer()\n",
    "with tf.Session() as sess:\n",
    "    sess.run(init)\n",
    "    rbm.set_session(sess)\n",
    "    err = rbm.fit(X_train, epochs=3)\n",
    "    out = rbm.reconstruct(X_test[0:100])  # Let us reconstruct Test Data"
   ]
  },
  {
   "cell_type": "code",
   "execution_count": 5,
   "metadata": {},
   "outputs": [
    {
     "data": {
      "text/plain": [
       "Text(0, 0.5, 'cost')"
      ]
     },
     "execution_count": 5,
     "metadata": {},
     "output_type": "execute_result"
    },
    {
     "data": {
      "image/png": "[encoded data removed]",
      "text/plain": [
       "<Figure size 432x288 with 1 Axes>"
      ]
     },
     "metadata": {
      "needs_background": "light"
     },
     "output_type": "display_data"
    }
   ],
   "source": [
    "plt.plot(err)\n",
    "plt.xlabel('epochs')\n",
    "plt.ylabel('cost')"
   ]
  },
  {
   "cell_type": "markdown",
   "metadata": {},
   "source": [
    "* We can see the original and reconstructed MNIST images by using a small helper plotting code"
   ]
  },
  {
   "cell_type": "code",
   "execution_count": 6,
   "metadata": {},
   "outputs": [
    {
     "data": {
      "image/png": "[encoded data removed]",
      "text/plain": [
       "<Figure size 432x288 with 16 Axes>"
      ]
     },
     "metadata": {
      "needs_background": "light"
     },
     "output_type": "display_data"
    }
   ],
   "source": [
    "# Plotting original and reconstructed images\n",
    "row, col = 2, 8\n",
    "idx = np.random.randint(0, 100, row * col // 2)\n",
    "f, axarr = plt.subplots(row, col)\n",
    "\n",
    "j, k = 0,0\n",
    "for i in idx:\n",
    "    axarr[j,k].imshow(X_test[i].reshape(28,28))\n",
    "    axarr[j,k+1].imshow(out[i].reshape(28,28))\n",
    "    k = k+2\n",
    "    if k==col:\n",
    "        j,k=1, 0"
   ]
  }
 ],
 "metadata": {
  "kernelspec": {
   "display_name": "Python 3",
   "language": "python",
   "name": "python3"
  },
  "language_info": {
   "codemirror_mode": {
    "name": "ipython",
    "version": 3
   },
   "file_extension": ".py",
   "mimetype": "text/x-python",
   "name": "python",
   "nbconvert_exporter": "python",
   "pygments_lexer": "ipython3",
   "version": "3.6.7"
  }
 },
 "nbformat": 4,
 "nbformat_minor": 2
}
